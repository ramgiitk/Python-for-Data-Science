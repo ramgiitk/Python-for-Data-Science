{
 "cells": [
  {
   "cell_type": "markdown",
   "metadata": {},
   "source": [
    "# Python Data Structure - List, Tuple, Dictionary and Set\n",
    "\n",
    "This blog focus on native data structures in Python. These data structures are:\n",
    "\n",
    "Lists\n",
    "Tuples\n",
    "Sets\n",
    "Dictionaries"
   ]
  },
  {
   "cell_type": "markdown",
   "metadata": {},
   "source": [
    "# List in Python\n",
    "\n",
    "List is an ordered sequence in Python. A list is mutable - can be changed. It is created using squared bracket with each item separated by a comma."
   ]
  },
  {
   "cell_type": "markdown",
   "metadata": {},
   "source": [
    "## How to create a list?"
   ]
  },
  {
   "cell_type": "code",
   "execution_count": 48,
   "metadata": {},
   "outputs": [
    {
     "name": "stdout",
     "output_type": "stream",
     "text": [
      "<class 'list'>\n",
      "['A', 13, 'Bangalore']\n"
     ]
    }
   ],
   "source": [
    "# Create a List\n",
    "List1=['A',13,'Bangalore']\n",
    "print(type(List1))\n",
    "print(List1)"
   ]
  },
  {
   "cell_type": "code",
   "execution_count": 49,
   "metadata": {},
   "outputs": [
    {
     "name": "stdout",
     "output_type": "stream",
     "text": [
      "['white']\n"
     ]
    }
   ],
   "source": [
    "# Create a list and add elements\n",
    "color=[]\n",
    "color.append('white')\n",
    "print(color)"
   ]
  },
  {
   "cell_type": "markdown",
   "metadata": {},
   "source": [
    "## How to access elements of a list?\n",
    "We can access element/s of a list using index or range of indexes along with square bracket- []"
   ]
  },
  {
   "cell_type": "code",
   "execution_count": 50,
   "metadata": {},
   "outputs": [
    {
     "name": "stdout",
     "output_type": "stream",
     "text": [
      "Tomato\n",
      "['Potato', 'Banana']\n"
     ]
    }
   ],
   "source": [
    "product = ['Tomato','Potato','Banana','Apple','Orange', 'Guava','Berry']\n",
    "\n",
    "# Accessing first element\n",
    "\n",
    "print(product[0])\n",
    "\n",
    "# Accessing multiple elments\n",
    "\n",
    "print(product[1:3])"
   ]
  },
  {
   "cell_type": "markdown",
   "metadata": {},
   "source": [
    "## How to combine multiple lists?\n",
    "Two or multiple lists can be concatenated using “+”."
   ]
  },
  {
   "cell_type": "code",
   "execution_count": 51,
   "metadata": {},
   "outputs": [
    {
     "name": "stdout",
     "output_type": "stream",
     "text": [
      "['Red', 'White', 'Green', 'Blue', 'Black', 'Orange', 'Yellow']\n"
     ]
    }
   ],
   "source": [
    "# create a list of 5 colors\n",
    "\n",
    "colors1 =['Red','White','Green','Blue','Black']\n",
    "\n",
    "# Create a list of 2 colors\n",
    "\n",
    "colors2 = ['Orange','Yellow']\n",
    "\n",
    "# Combine two lists\n",
    "\n",
    "colors3=colors1+colors2\n",
    "\n",
    "print(colors3)"
   ]
  },
  {
   "cell_type": "markdown",
   "metadata": {},
   "source": [
    "## How do use Loops on lists in Python?\n",
    "\n",
    "**Scenario 1**: Create a list of 10 random values between 0 and 50. To generate random integer value, **randint()** method from **random package** can be used.  For loop is used for generating the series of these random integers using **randint()**. \n",
    "\n",
    "Square bracket [] is used to store these numbers to a list."
   ]
  },
  {
   "cell_type": "code",
   "execution_count": 61,
   "metadata": {},
   "outputs": [
    {
     "name": "stdout",
     "output_type": "stream",
     "text": [
      "[15, 50, 39, 21, 44, 7, 29, 14, 2, 33]\n"
     ]
    }
   ],
   "source": [
    "import random\n",
    "l1 =[random.randint(0,50) for x in range(10)]\n",
    "print(l1)"
   ]
  },
  {
   "cell_type": "markdown",
   "metadata": {},
   "source": [
    "**Scenario 2**: we have two lists - first_name (first name) and last_name (surname) and we want to combine to create a list of full names."
   ]
  },
  {
   "cell_type": "code",
   "execution_count": 94,
   "metadata": {},
   "outputs": [
    {
     "name": "stdout",
     "output_type": "stream",
     "text": [
      "['Steven King', 'Neena Kochhar', 'Lex De Haan', 'Alexander Hunold', 'Bruce Ernst', 'David Austin', 'Valli Pataballa', 'Diana Lorentz', 'Nancy Greenberg', 'Daniel Faviet']\n"
     ]
    }
   ],
   "source": [
    "first_name =['Steven','Neena','Lex','Alexander','Bruce','David','Valli','Diana','Nancy','Daniel']\n",
    "last_name =['King','Kochhar', 'De Haan', 'Hunold','Ernst','Austin','Pataballa','Lorentz','Greenberg','Faviet']\n",
    "\n",
    "# create empty list\n",
    "fullname=[]\n",
    "# combine element of first and last name\n",
    "for i in range(0,len(first_name)):\n",
    "    fullname.append(first_name[i]+\" \"+last_name[i])\n",
    "print(fullname)"
   ]
  },
  {
   "cell_type": "markdown",
   "metadata": {},
   "source": [
    "## Tuple in Python\n",
    "\n",
    "A tuple is another sequence available in Python. A tuple can be created using parentheses - \"(\" and \")\" and items are separated by \",\" (commas).\n",
    "\n",
    "Tuple stores elements in an ordered sequence and a tuple cannot be changed. \n",
    "\n",
    "The main difference between lists and tuples is that tuples are \"immutable\" but lists are \"mutable\". Immutable means it cannot be changed. If we want to change a tuple, we can create a new tuple.\n",
    "\n",
    "When we want to store product prices, we can create a tuples \"product_price\" which stores product prices in a sequence. A tuple can store integer, float, or other tuples as its element."
   ]
  },
  {
   "cell_type": "code",
   "execution_count": 12,
   "metadata": {},
   "outputs": [
    {
     "name": "stdout",
     "output_type": "stream",
     "text": [
      "<class 'tuple'>\n",
      "('Tomato', 'Potato', 'Onion', 'Radish')\n"
     ]
    }
   ],
   "source": [
    "#Tuple\n",
    "T1 = ('Tomato','Potato','Onion','Radish')\n",
    "print(type(T1))\n",
    "print(T1)"
   ]
  },
  {
   "cell_type": "markdown",
   "metadata": {},
   "source": [
    "A tuple can also be created using a built-in function tuple().  Or we can convert an existing list to a tuple using tuple() function."
   ]
  },
  {
   "cell_type": "code",
   "execution_count": 66,
   "metadata": {},
   "outputs": [
    {
     "name": "stdout",
     "output_type": "stream",
     "text": [
      "()\n",
      "(12, 14, 19, 6, 12)\n"
     ]
    }
   ],
   "source": [
    "# create empty tuple\n",
    "t1 =tuple()\n",
    "print(t1)\n",
    "\n",
    "# Create a list and convert to a tuple\n",
    "\n",
    "l2 =[12,14,19,6,12]\n",
    "t2 = tuple(l2)\n",
    "print(t2)"
   ]
  },
  {
   "cell_type": "markdown",
   "metadata": {},
   "source": [
    "### Indexing\n",
    "If we were to select an element of a tuple, we can use the index as elements are stored in a sequence from zero onward. Indexing is done using squared bracket \"[\"/\"]\"."
   ]
  },
  {
   "cell_type": "code",
   "execution_count": 68,
   "metadata": {},
   "outputs": [
    {
     "data": {
      "text/plain": [
       "45"
      ]
     },
     "execution_count": 68,
     "metadata": {},
     "output_type": "execute_result"
    }
   ],
   "source": [
    "# Create Tuple\n",
    "product_price = (12,33,25,18,45,39)\n",
    "# Index\n",
    "product_price[4]\n"
   ]
  },
  {
   "cell_type": "markdown",
   "metadata": {},
   "source": [
    "### Slicing \n",
    "For accessing single elements, we can use index, we can select multiple elements using range of indexes. It gives output as another tuple."
   ]
  },
  {
   "cell_type": "code",
   "execution_count": 69,
   "metadata": {},
   "outputs": [
    {
     "data": {
      "text/plain": [
       "(18, 45)"
      ]
     },
     "execution_count": 69,
     "metadata": {},
     "output_type": "execute_result"
    }
   ],
   "source": [
    "# Splice\n",
    "\n",
    "product_price[3:5]"
   ]
  },
  {
   "cell_type": "markdown",
   "metadata": {},
   "source": [
    "## How to combine Tuples or Adding sequences?\n",
    "A tuple cannot be changed but a new tuple can be created using existing done. Two tuples can be combined to create a new tuple.\n",
    "\n"
   ]
  },
  {
   "cell_type": "code",
   "execution_count": 70,
   "metadata": {},
   "outputs": [
    {
     "name": "stdout",
     "output_type": "stream",
     "text": [
      "(12, 42, 56.0, 33.75, 18.15, 33, 45.23, 77.56, 26.55, 22)\n"
     ]
    }
   ],
   "source": [
    "prices_1 = (12,42,56.0, 33.75, 18.15)\n",
    "prices_2 = (33, 45.23, 77.56, 26.55, 22)\n",
    "price=prices_1+prices_2\n",
    "print(price)"
   ]
  },
  {
   "cell_type": "markdown",
   "metadata": {},
   "source": [
    "### Operations on Tuple Elements\n",
    "We can multiple with a number n and it will create another tuple with repeating original tuple with n times."
   ]
  },
  {
   "cell_type": "code",
   "execution_count": 72,
   "metadata": {},
   "outputs": [
    {
     "data": {
      "text/plain": [
       "(12, 13, 12, 13, 12, 13, 12, 13)"
      ]
     },
     "execution_count": 72,
     "metadata": {},
     "output_type": "execute_result"
    }
   ],
   "source": [
    "p =(12,13)\n",
    "\n",
    "p1 = p*4\n",
    "\n",
    "p1"
   ]
  },
  {
   "cell_type": "code",
   "execution_count": 73,
   "metadata": {},
   "outputs": [
    {
     "data": {
      "text/plain": [
       "('Ram', 'John', 11, 'Michelle')"
      ]
     },
     "execution_count": 73,
     "metadata": {},
     "output_type": "execute_result"
    }
   ],
   "source": [
    "names =('Ram','John',11,'Michelle')\n",
    "\n",
    "names\n",
    "\n",
    "('Ram', 'John', 11, 'Michelle')"
   ]
  },
  {
   "cell_type": "markdown",
   "metadata": {},
   "source": [
    "# Set in Python\n",
    "\n",
    "Sets in Python are an unordered collection of elements and these elements are unique.\n",
    "\n",
    "## Create a set\n",
    "A set can be created with curly brackets - { and }.\n"
   ]
  },
  {
   "cell_type": "code",
   "execution_count": 74,
   "metadata": {},
   "outputs": [
    {
     "name": "stdout",
     "output_type": "stream",
     "text": [
      "{1, 2, 4, 6}\n",
      "{'b', 'd', 'f', 'a'}\n"
     ]
    }
   ],
   "source": [
    "# Create a set\n",
    "s = {1,2,4,6}\n",
    "s1={'a','b','f','d'}\n",
    "print(s)\n",
    "print(s1)\n"
   ]
  },
  {
   "cell_type": "markdown",
   "metadata": {},
   "source": [
    "A set can also be created using the ‘set' function. In this, we will give an input list of items and it will be converted to a set."
   ]
  },
  {
   "cell_type": "code",
   "execution_count": 76,
   "metadata": {},
   "outputs": [
    {
     "name": "stdout",
     "output_type": "stream",
     "text": [
      "{2, 3, 6, 7}\n",
      "<class 'set'>\n"
     ]
    }
   ],
   "source": [
    "s3 =set([2,3,6,7])\n",
    "\n",
    "print(s3)\n",
    "print(type(s3))"
   ]
  },
  {
   "cell_type": "markdown",
   "metadata": {},
   "source": [
    "## Change a set in Python\n",
    "\n",
    "We can add element/s to an existing set using add method.\n",
    "\n",
    "### Add element\n",
    "add() method can be used to add element to a set if the element is not there."
   ]
  },
  {
   "cell_type": "code",
   "execution_count": 79,
   "metadata": {},
   "outputs": [
    {
     "name": "stdout",
     "output_type": "stream",
     "text": [
      "Current Elements {2, 3, 6, 7, 13}\n",
      "Elements after adding 13 {2, 3, 6, 7, 13}\n"
     ]
    }
   ],
   "source": [
    "# current elements\n",
    "print(\"Current Elements\",s3)\n",
    "\n",
    "# add element to a set -s3\n",
    "s3.add(13)\n",
    "\n",
    "# Now see the elements in s3\n",
    "print(\"Elements after adding 13\",s3)\n"
   ]
  },
  {
   "cell_type": "markdown",
   "metadata": {},
   "source": [
    "### Remove Element\n",
    "We can remove elements from a set using remove() method"
   ]
  },
  {
   "cell_type": "code",
   "execution_count": 81,
   "metadata": {},
   "outputs": [
    {
     "name": "stdout",
     "output_type": "stream",
     "text": [
      "Start elements of colors: {'White', 'Red', 'Green', 'Orange', 'Black', 'Blue'}\n",
      "Elements after removing Orange: {'White', 'Red', 'Green', 'Black', 'Blue'}\n"
     ]
    }
   ],
   "source": [
    "colors = {'Red','Green','Orange', 'Blue','Black','White'}\n",
    "print(\"Start elements of colors:\",colors)\n",
    "\n",
    "# remove 'Orange' element from colors set\n",
    "colors.remove('Orange')\n",
    "\n",
    "# view elements now\n",
    "print(\"Elements after removing Orange:\",colors)\n"
   ]
  },
  {
   "cell_type": "markdown",
   "metadata": {},
   "source": [
    "### Scenarios: set operations\n",
    "\n",
    "**Scenario 1**: We have to create a set which stores squares of integer numbers between 1 and 10\n",
    "\n",
    "First create an empty set and then add elements using **add()** method in a for loop."
   ]
  },
  {
   "cell_type": "code",
   "execution_count": 86,
   "metadata": {},
   "outputs": [
    {
     "name": "stdout",
     "output_type": "stream",
     "text": [
      "{64, 1, 4, 36, 100, 9, 16, 49, 81, 25}\n"
     ]
    }
   ],
   "source": [
    "# define empty set\n",
    "squares=set()\n",
    "# run loop for 1 to 10\n",
    "for i in range(1,11):\n",
    "    # add elements\n",
    "    squares.add(i*i)\n",
    "    \n",
    "print(squares)\n"
   ]
  },
  {
   "cell_type": "markdown",
   "metadata": {},
   "source": [
    "It is unordered sequence, so the position is not important. \n",
    "\n",
    "**Scenario 2:** We have a list of cities and we want to get unique values, we can convert the list to set and get the unique list of cities. A set will always have unique values as elements."
   ]
  },
  {
   "cell_type": "code",
   "execution_count": 87,
   "metadata": {},
   "outputs": [
    {
     "name": "stdout",
     "output_type": "stream",
     "text": [
      "{'Anchorage', 'Brighton', 'Phoenix', 'Sioux Falls', 'Ashland', 'Aston', 'New Orleans', 'Hamilton', 'Chicago', 'Mc Minnville', 'Bridgeport', 'San Jose'}\n"
     ]
    }
   ],
   "source": [
    "cities=['New Orleans','Brighton','Bridgeport','Anchorage','Hamilton','Ashland','Chicago','San Jose','Sioux Falls','Phoenix','Mc Minnville','Aston','San Jose',\n",
    "\n",
    "'New Orleans','Brighton','Bridgeport','Anchorage','Hamilton','Ashland',]\n",
    "\n",
    "cities_unique=set(cities)\n",
    "\n",
    "print(cities_unique)"
   ]
  },
  {
   "cell_type": "markdown",
   "metadata": {},
   "source": [
    "## Dictionary in Python\n",
    "\n",
    "Dictionary is an unordered collection of items. Each item has a key and value pair.  A dictionary can be created using a curly bracket { and }.\n",
    "\n",
    "Creating a dictionary\n",
    "\n",
    "The key to a dictionary is immutable but the values can be of any data type. "
   ]
  },
  {
   "cell_type": "code",
   "execution_count": 10,
   "metadata": {},
   "outputs": [
    {
     "name": "stdout",
     "output_type": "stream",
     "text": [
      "<class 'dict'>\n",
      "{'Name': 'Ramesh', 'Age': 30}\n"
     ]
    }
   ],
   "source": [
    "# Dictionary \n",
    "dic1 = {'Name': 'Ramesh', 'Age': 30}\n",
    "print(type(dic1))\n",
    "print(dic1)"
   ]
  },
  {
   "cell_type": "markdown",
   "metadata": {},
   "source": [
    "In this dictionary, there are two keys ‘Name’ and ‘Age’. Value of Key ‘Name’ is a string and of Key ‘Age’ is an integer.\n",
    "\n",
    "Now, we are creating a dictionary with two keys – ‘Name’ and ‘Spend’.  A set is associated with each of these two keys."
   ]
  },
  {
   "cell_type": "code",
   "execution_count": 89,
   "metadata": {},
   "outputs": [
    {
     "name": "stdout",
     "output_type": "stream",
     "text": [
      "{'Name': ('Ramesh', 'Mahesh', 'Sohan'), 'Spend': (12, 13, 12, 13, 45)}\n"
     ]
    }
   ],
   "source": [
    "D2 ={'Name': ('Ramesh','Mahesh','Sohan'),'Spend':(12,13,12,13,45)}\n",
    "print(D2)"
   ]
  },
  {
   "cell_type": "markdown",
   "metadata": {},
   "source": [
    "The D2 dictionary ‘Name’ key has 3 associated values and ‘Spend’ has 5 values.\n",
    "\n",
    "## Accessing Elements of a dictionary\n",
    "Items of a dictionary can be accessed using square brackets [] or with the get() method."
   ]
  },
  {
   "cell_type": "code",
   "execution_count": 90,
   "metadata": {},
   "outputs": [
    {
     "name": "stdout",
     "output_type": "stream",
     "text": [
      "('Ramesh', 'Mahesh', 'Sohan')\n",
      "(12, 13, 12, 13, 45)\n"
     ]
    }
   ],
   "source": [
    "# Using a Key value and []\n",
    "print(D2['Name'])\n",
    "# Using Get method\n",
    "print(D2.get('Spend'))"
   ]
  },
  {
   "cell_type": "markdown",
   "metadata": {},
   "source": [
    "## Adding Elements to a Dictionary"
   ]
  },
  {
   "cell_type": "code",
   "execution_count": 91,
   "metadata": {},
   "outputs": [
    {
     "name": "stdout",
     "output_type": "stream",
     "text": [
      "{'Name': ('Ramesh', 'Mahesh', 'Sohan'), 'Spend': (12, 13, 12, 13, 45), 'City': 'Bangalore'}\n"
     ]
    }
   ],
   "source": [
    "# Add new key/value pair - element\n",
    "D2['City']='Bangalore'\n",
    "print(D2)"
   ]
  },
  {
   "cell_type": "code",
   "execution_count": 92,
   "metadata": {},
   "outputs": [
    {
     "name": "stdout",
     "output_type": "stream",
     "text": [
      "{'Name': ('Ramesh P', 'Mahesh K', 'Sohan S', 'Mukesh M'), 'Spend': (12, 13, 12, 13, 45), 'City': 'Bangalore'}\n"
     ]
    }
   ],
   "source": [
    "# Update Key or Change Values\n",
    "D2['Name']=('Ramesh P','Mahesh K','Sohan S','Mukesh M')\n",
    "print(D2)"
   ]
  },
  {
   "cell_type": "markdown",
   "metadata": {},
   "source": [
    "## Removing Elements from a Dictionary\n",
    "To remove an element from a dictionary, pop() can be used. It requires a key as an input argument."
   ]
  },
  {
   "cell_type": "code",
   "execution_count": 93,
   "metadata": {},
   "outputs": [
    {
     "name": "stdout",
     "output_type": "stream",
     "text": [
      "{'Name': ('Ramesh P', 'Mahesh K', 'Sohan S', 'Mukesh M'), 'Spend': (12, 13, 12, 13, 45)}\n"
     ]
    }
   ],
   "source": [
    "# Remove Element from a Dictionary\n",
    "D2.pop('City')\n",
    "print(D2)"
   ]
  }
 ],
 "metadata": {
  "kernelspec": {
   "display_name": "Python 3",
   "language": "python",
   "name": "python3"
  },
  "language_info": {
   "codemirror_mode": {
    "name": "ipython",
    "version": 3
   },
   "file_extension": ".py",
   "mimetype": "text/x-python",
   "name": "python",
   "nbconvert_exporter": "python",
   "pygments_lexer": "ipython3",
   "version": "3.7.6"
  }
 },
 "nbformat": 4,
 "nbformat_minor": 4
}
